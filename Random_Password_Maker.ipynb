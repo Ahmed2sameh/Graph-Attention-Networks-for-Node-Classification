{
  "nbformat": 4,
  "nbformat_minor": 0,
  "metadata": {
    "colab": {
      "provenance": [],
      "authorship_tag": "ABX9TyNwHIpVkcyfQO7h54MLgDnK",
      "include_colab_link": true
    },
    "kernelspec": {
      "name": "python3",
      "display_name": "Python 3"
    },
    "language_info": {
      "name": "python"
    }
  },
  "cells": [
    {
      "cell_type": "markdown",
      "metadata": {
        "id": "view-in-github",
        "colab_type": "text"
      },
      "source": [
        "<a href=\"https://colab.research.google.com/github/Ahmed2sameh/Graph-Attention-Networks-for-Node-Classification/blob/main/Random_Password_Maker.ipynb\" target=\"_parent\"><img src=\"https://colab.research.google.com/assets/colab-badge.svg\" alt=\"Open In Colab\"/></a>"
      ]
    },
    {
      "cell_type": "code",
      "execution_count": null,
      "metadata": {
        "id": "jqBcRrK9-xSE"
      },
      "outputs": [],
      "source": [
        "import random\n",
        "import string\n"
      ]
    },
    {
      "cell_type": "code",
      "source": [
        "# Ask the user for the desired password length\n",
        "length = int(input(\"Enter desired password length: \"))\n",
        "\n",
        "# Ask the user which types of characters to include\n",
        "use_lowercase = input(\"Include lowercase letters? (y/n): \").lower() == 'y'\n",
        "use_uppercase = input(\"Include uppercase letters? (y/n): \").lower() == 'y'\n",
        "use_digits = input(\"Include digits? (y/n): \").lower() == 'y'\n",
        "use_symbols = input(\"Include special characters? (y/n): \").lower() == 'y'\n",
        "\n",
        "# Build the character set based on user choices\n",
        "characters = \"\"\n",
        "\n",
        "if use_lowercase:\n",
        "    characters += string.ascii_lowercase\n",
        "if use_uppercase:\n",
        "    characters += string.ascii_uppercase\n",
        "if use_digits:\n",
        "    characters += string.digits\n",
        "if use_symbols:\n",
        "    characters += string.punctuation\n",
        "\n",
        "# Check if at least one character set is selected\n",
        "if not characters:\n",
        "    print(\"You must select at least one character type!\")\n",
        "else:\n",
        "    # Generate the password\n",
        "    password = ''.join(random.choice(characters) for _ in range(length))\n",
        "    print(f\"Your generated password is: {password}\")"
      ],
      "metadata": {
        "colab": {
          "base_uri": "https://localhost:8080/"
        },
        "id": "NfoFJFWv-2Df",
        "outputId": "ebba818a-e648-430a-a960-995a799a615b"
      },
      "execution_count": null,
      "outputs": [
        {
          "output_type": "stream",
          "name": "stdout",
          "text": [
            "Enter desired password length: 6\n",
            "Include lowercase letters? (y/n): \n",
            "Include uppercase letters? (y/n): \n",
            "Include digits? (y/n): \n",
            "Include special characters? (y/n): \n",
            "You must select at least one character type!\n"
          ]
        }
      ]
    }
  ]
}