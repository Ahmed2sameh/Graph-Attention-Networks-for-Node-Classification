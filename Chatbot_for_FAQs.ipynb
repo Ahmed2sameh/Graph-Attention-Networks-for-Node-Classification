{
  "nbformat": 4,
  "nbformat_minor": 0,
  "metadata": {
    "colab": {
      "provenance": [],
      "gpuType": "T4",
      "authorship_tag": "ABX9TyNg7fAUHa4LMIMY1ETssV78",
      "include_colab_link": true
    },
    "kernelspec": {
      "name": "python3",
      "display_name": "Python 3"
    },
    "language_info": {
      "name": "python"
    },
    "accelerator": "GPU"
  },
  "cells": [
    {
      "cell_type": "markdown",
      "metadata": {
        "id": "view-in-github",
        "colab_type": "text"
      },
      "source": [
        "<a href=\"https://colab.research.google.com/github/Ahmed2sameh/Graph-Attention-Networks-for-Node-Classification/blob/main/Chatbot_for_FAQs.ipynb\" target=\"_parent\"><img src=\"https://colab.research.google.com/assets/colab-badge.svg\" alt=\"Open In Colab\"/></a>"
      ]
    },
    {
      "cell_type": "code",
      "execution_count": 1,
      "metadata": {
        "colab": {
          "base_uri": "https://localhost:8080/"
        },
        "id": "VRjStxb57FQ1",
        "outputId": "1336949e-1058-44ac-d616-ee0a7b39ca60"
      },
      "outputs": [
        {
          "output_type": "stream",
          "name": "stdout",
          "text": [
            "Requirement already satisfied: nltk in /usr/local/lib/python3.12/dist-packages (3.9.1)\n",
            "Requirement already satisfied: scikit-learn in /usr/local/lib/python3.12/dist-packages (1.6.1)\n",
            "Requirement already satisfied: click in /usr/local/lib/python3.12/dist-packages (from nltk) (8.3.0)\n",
            "Requirement already satisfied: joblib in /usr/local/lib/python3.12/dist-packages (from nltk) (1.5.2)\n",
            "Requirement already satisfied: regex>=2021.8.3 in /usr/local/lib/python3.12/dist-packages (from nltk) (2024.11.6)\n",
            "Requirement already satisfied: tqdm in /usr/local/lib/python3.12/dist-packages (from nltk) (4.67.1)\n",
            "Requirement already satisfied: numpy>=1.19.5 in /usr/local/lib/python3.12/dist-packages (from scikit-learn) (2.0.2)\n",
            "Requirement already satisfied: scipy>=1.6.0 in /usr/local/lib/python3.12/dist-packages (from scikit-learn) (1.16.2)\n",
            "Requirement already satisfied: threadpoolctl>=3.1.0 in /usr/local/lib/python3.12/dist-packages (from scikit-learn) (3.6.0)\n"
          ]
        }
      ],
      "source": [
        "!pip install nltk scikit-learn"
      ]
    },
    {
      "cell_type": "code",
      "source": [
        "faqs = {\n",
        "    \"what is ai\": \"AI stands for Artificial Intelligence, it’s the simulation of human intelligence in machines.\",\n",
        "    \"what are the types of ai\": \"AI can be categorized into Narrow AI, General AI, and Super AI depending on its capability.\",\n",
        "    \"what are examples of ai\": \"Examples include chatbots, self-driving cars, recommendation systems, and voice assistants like Alexa or Siri.\",\n",
        "\n",
        "    \"what is machine learning\": \"Machine Learning is a subset of AI that allows systems to learn from data automatically.\",\n",
        "    \"types of machine learning\": \"There are three main types: Supervised Learning, Unsupervised Learning, and Reinforcement Learning.\",\n",
        "    \"what is supervised learning\": \"Supervised learning uses labeled data to train algorithms that predict outcomes for new data.\",\n",
        "    \"what is unsupervised learning\": \"Unsupervised learning finds hidden patterns or intrinsic structures in data without labels.\",\n",
        "\n",
        "    \"what is deep learning\": \"Deep Learning is a subset of Machine Learning that uses neural networks with many layers to analyze data.\",\n",
        "    \"what are neural networks\": \"Neural networks are computing systems inspired by the human brain, used for pattern recognition and classification.\",\n",
        "    \"what is cnn\": \"CNN stands for Convolutional Neural Network, mainly used for image processing and computer vision tasks.\",\n",
        "\n",
        "    \"who created python\": \"Python was created by Guido van Rossum and first released in 1991.\",\n",
        "    \"what is python\": \"Python is a high-level, interpreted programming language known for its simplicity and readability.\",\n",
        "    \"why is python used in ai\": \"Python offers powerful libraries like TensorFlow, PyTorch, and scikit-learn that simplify AI development.\",\n",
        "\n",
        "    \"what is codealpha\": \"CodeAlpha is a software development company offering internships in AI, ML, and other technologies.\",\n",
        "    \"what are the perks of codealpha internship\": \"Interns receive an offer letter, certificate, recommendation letter, and resume-building support.\",\n",
        "    \"how many tasks to complete in codealpha internship\": \"You must complete at least 2 or 3 tasks to receive the internship certificate.\",\n",
        "\n",
        "    \"what is data science\": \"Data Science combines statistics, computer science, and domain knowledge to extract insights from data.\",\n",
        "    \"what is nlp\": \"NLP stands for Natural Language Processing, which helps computers understand and generate human language.\",\n",
        "    \"what is computer vision\": \"Computer Vision enables machines to interpret and make decisions based on visual information like images and videos.\"\n",
        "}\n"
      ],
      "metadata": {
        "id": "HOvTuU6HOMuT"
      },
      "execution_count": 2,
      "outputs": []
    },
    {
      "cell_type": "code",
      "source": [
        "from sklearn.feature_extraction.text import TfidfVectorizer\n",
        "from sklearn.metrics.pairwise import cosine_similarity\n",
        "import nltk\n",
        "nltk.download('punkt')\n",
        "\n",
        "questions = list(faqs.keys())\n",
        "answers = list(faqs.values())\n",
        "\n",
        "vectorizer = TfidfVectorizer()\n",
        "X = vectorizer.fit_transform(questions)\n"
      ],
      "metadata": {
        "colab": {
          "base_uri": "https://localhost:8080/"
        },
        "id": "MbQwy7UF85yc",
        "outputId": "478b33f2-1f0c-4a14-cddb-ddc4fa066e30"
      },
      "execution_count": 3,
      "outputs": [
        {
          "output_type": "stream",
          "name": "stderr",
          "text": [
            "[nltk_data] Downloading package punkt to /root/nltk_data...\n",
            "[nltk_data]   Unzipping tokenizers/punkt.zip.\n"
          ]
        }
      ]
    },
    {
      "cell_type": "code",
      "source": [
        "def chatbot_response(user_input):\n",
        "    user_input_vector = vectorizer.transform([user_input])\n",
        "    similarity_scores = cosine_similarity(user_input_vector, X)\n",
        "    index = similarity_scores.argmax()\n",
        "    confidence = similarity_scores[0][index]\n",
        "\n",
        "    if confidence > 0.3:  # عتبة الثقة\n",
        "        return answers[index]\n",
        "    else:\n",
        "        return \"Sorry, I don’t know the answer to that question.\"\n",
        "\n",
        "# مثال\n",
        "print(chatbot_response(\"tell me about codealpha\"))\n"
      ],
      "metadata": {
        "colab": {
          "base_uri": "https://localhost:8080/"
        },
        "id": "ZsPuLXrg8-Nw",
        "outputId": "1fbd21f3-e242-4686-b7ab-442ee25b427a"
      },
      "execution_count": 4,
      "outputs": [
        {
          "output_type": "stream",
          "name": "stdout",
          "text": [
            "CodeAlpha is a software development company offering internships in AI, ML, and other technologies.\n"
          ]
        }
      ]
    },
    {
      "cell_type": "code",
      "source": [
        "print(\"🤖 Chatbot: Hello! Ask me anything about AI or CodeAlpha. Type 'exit' to quit.\\n\")\n",
        "\n",
        "while True:\n",
        "    user_input = input(\"You: \")\n",
        "    if user_input.lower() == \"exit\":\n",
        "        print(\"🤖 Chatbot: Goodbye!\")\n",
        "        break\n",
        "    response = chatbot_response(user_input)\n",
        "    print(\"🤖 Chatbot:\", response)\n"
      ],
      "metadata": {
        "colab": {
          "base_uri": "https://localhost:8080/"
        },
        "id": "U4ga4Dvv9P_P",
        "outputId": "873dd3b4-5f5c-4a3a-ebac-e77dfaf18fb8"
      },
      "execution_count": null,
      "outputs": [
        {
          "output_type": "stream",
          "name": "stdout",
          "text": [
            "🤖 Chatbot: Hello! Ask me anything about AI or CodeAlpha. Type 'exit' to quit.\n",
            "\n",
            "You: what is codealpha\n",
            "🤖 Chatbot: CodeAlpha is a software development company offering internships in AI, ML, and other technologies.\n"
          ]
        }
      ]
    }
  ]
}