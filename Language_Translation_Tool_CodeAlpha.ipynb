{
  "nbformat": 4,
  "nbformat_minor": 0,
  "metadata": {
    "colab": {
      "provenance": [],
      "gpuType": "T4",
      "authorship_tag": "ABX9TyP64ZzsCDX1gF3SRoj5paRJ",
      "include_colab_link": true
    },
    "kernelspec": {
      "name": "python3",
      "display_name": "Python 3"
    },
    "language_info": {
      "name": "python"
    },
    "accelerator": "GPU"
  },
  "cells": [
    {
      "cell_type": "markdown",
      "metadata": {
        "id": "view-in-github",
        "colab_type": "text"
      },
      "source": [
        "<a href=\"https://colab.research.google.com/github/Ahmed2sameh/Graph-Attention-Networks-for-Node-Classification/blob/main/Language_Translation_Tool_CodeAlpha.ipynb\" target=\"_parent\"><img src=\"https://colab.research.google.com/assets/colab-badge.svg\" alt=\"Open In Colab\"/></a>"
      ]
    },
    {
      "cell_type": "code",
      "execution_count": 1,
      "metadata": {
        "colab": {
          "base_uri": "https://localhost:8080/"
        },
        "id": "cdoc1pcKUqN-",
        "outputId": "b7cb432b-57f5-4408-98aa-5d6f0931f232"
      },
      "outputs": [
        {
          "output_type": "stream",
          "name": "stdout",
          "text": [
            "Collecting deep-translator\n",
            "  Downloading deep_translator-1.11.4-py3-none-any.whl.metadata (30 kB)\n",
            "Requirement already satisfied: beautifulsoup4<5.0.0,>=4.9.1 in /usr/local/lib/python3.12/dist-packages (from deep-translator) (4.13.5)\n",
            "Requirement already satisfied: requests<3.0.0,>=2.23.0 in /usr/local/lib/python3.12/dist-packages (from deep-translator) (2.32.4)\n",
            "Requirement already satisfied: soupsieve>1.2 in /usr/local/lib/python3.12/dist-packages (from beautifulsoup4<5.0.0,>=4.9.1->deep-translator) (2.8)\n",
            "Requirement already satisfied: typing-extensions>=4.0.0 in /usr/local/lib/python3.12/dist-packages (from beautifulsoup4<5.0.0,>=4.9.1->deep-translator) (4.15.0)\n",
            "Requirement already satisfied: charset_normalizer<4,>=2 in /usr/local/lib/python3.12/dist-packages (from requests<3.0.0,>=2.23.0->deep-translator) (3.4.4)\n",
            "Requirement already satisfied: idna<4,>=2.5 in /usr/local/lib/python3.12/dist-packages (from requests<3.0.0,>=2.23.0->deep-translator) (3.11)\n",
            "Requirement already satisfied: urllib3<3,>=1.21.1 in /usr/local/lib/python3.12/dist-packages (from requests<3.0.0,>=2.23.0->deep-translator) (2.5.0)\n",
            "Requirement already satisfied: certifi>=2017.4.17 in /usr/local/lib/python3.12/dist-packages (from requests<3.0.0,>=2.23.0->deep-translator) (2025.10.5)\n",
            "Downloading deep_translator-1.11.4-py3-none-any.whl (42 kB)\n",
            "\u001b[?25l   \u001b[90m━━━━━━━━━━━━━━━━━━━━━━━━━━━━━━━━━━━━━━━━\u001b[0m \u001b[32m0.0/42.3 kB\u001b[0m \u001b[31m?\u001b[0m eta \u001b[36m-:--:--\u001b[0m\r\u001b[2K   \u001b[90m━━━━━━━━━━━━━━━━━━━━━━━━━━━━━━━━━━━━━━━━\u001b[0m \u001b[32m42.3/42.3 kB\u001b[0m \u001b[31m2.6 MB/s\u001b[0m eta \u001b[36m0:00:00\u001b[0m\n",
            "\u001b[?25hInstalling collected packages: deep-translator\n",
            "Successfully installed deep-translator-1.11.4\n"
          ]
        }
      ],
      "source": [
        "!pip install deep-translator\n"
      ]
    },
    {
      "cell_type": "code",
      "source": [
        "from deep_translator import GoogleTranslator\n",
        "\n",
        "print(\"🌍 Welcome to the Language Translation Tool (CodeAlpha Project)\")\n",
        "\n",
        "\n",
        "languages = ['english', 'arabic', 'french', 'spanish', 'german', 'italian', 'chinese']\n",
        "\n",
        "print(\"\\nAvailable languages:\")\n",
        "for lang in languages:\n",
        "    print(\"-\", lang)\n",
        "\n",
        "\n",
        "source_lang = input(\"\\nEnter source language: \").lower()\n",
        "target_lang = input(\"Enter target language: \").lower()\n",
        "text = input(\"\\nEnter the text you want to translate:\\n\")\n",
        "\n",
        "try:\n",
        "    translated = GoogleTranslator(source=source_lang, target=target_lang).translate(text)\n",
        "    print(\"\\n✅ Translated Text:\\n\", translated)\n",
        "except Exception as e:\n",
        "    print(\"❌ Translation failed! Please check your internet connection or language names.\")\n"
      ],
      "metadata": {
        "colab": {
          "base_uri": "https://localhost:8080/"
        },
        "id": "La-Kw2IhVe87",
        "outputId": "a8f02141-a97c-403e-99df-3dc68580c68d"
      },
      "execution_count": 2,
      "outputs": [
        {
          "output_type": "stream",
          "name": "stdout",
          "text": [
            "🌍 Welcome to the Language Translation Tool (CodeAlpha Project)\n",
            "\n",
            "Available languages:\n",
            "- english\n",
            "- arabic\n",
            "- french\n",
            "- spanish\n",
            "- german\n",
            "- italian\n",
            "- chinese\n",
            "\n",
            "Enter source language: arabic\n",
            "Enter target language: english\n",
            "\n",
            "Enter the text you want to translate:\n",
            "انا اسمي احمد\n",
            "\n",
            "✅ Translated Text:\n",
            " My name is Ahmed\n"
          ]
        }
      ]
    },
    {
      "cell_type": "code",
      "source": [
        "from deep_translator import GoogleTranslator\n",
        "\n",
        "def translate_text():\n",
        "    print(\"=\"*60)\n",
        "    print(\"🌐 Language Translation Tool | CodeAlpha Internship\")\n",
        "    print(\"=\"*60)\n",
        "\n",
        "    source = input(\"\\nEnter source language (e.g., english): \").lower()\n",
        "    target = input(\"Enter target language (e.g., arabic): \").lower()\n",
        "    text = input(\"\\nEnter text to translate: \")\n",
        "\n",
        "    try:\n",
        "        result = GoogleTranslator(source=source, target=target).translate(text)\n",
        "        print(\"\\n✅ Translation Successful!\\n\")\n",
        "        print(f\"🔸 From ({source}) ➜ To ({target})\")\n",
        "        print(\"💬 Translated Text:\", result)\n",
        "    except Exception as e:\n",
        "        print(\"❌ Error occurred! Please check the language names or internet connection.\")\n",
        "\n",
        "translate_text()\n"
      ],
      "metadata": {
        "colab": {
          "base_uri": "https://localhost:8080/"
        },
        "id": "OnJRcfU9WNzC",
        "outputId": "90664193-f84b-49b0-c256-2355a2566ee3"
      },
      "execution_count": 6,
      "outputs": [
        {
          "output_type": "stream",
          "name": "stdout",
          "text": [
            "============================================================\n",
            "🌐 Language Translation Tool | CodeAlpha Internship\n",
            "============================================================\n",
            "\n",
            "Enter source language (e.g., english): english\n",
            "Enter target language (e.g., arabic): arabic\n",
            "\n",
            "Enter text to translate: iam ahmed sameh , artificial intellegent engineer\n",
            "\n",
            "✅ Translation Successful!\n",
            "\n",
            "🔸 From (english) ➜ To (arabic)\n",
            "💬 Translated Text: أنا أحمد سامح، مهندس الذكاء الاصطناعي\n"
          ]
        }
      ]
    }
  ]
}